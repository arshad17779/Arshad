{
 "cells": [
  {
   "cell_type": "code",
   "execution_count": 1,
   "metadata": {},
   "outputs": [
    {
     "name": "stdout",
     "output_type": "stream",
     "text": [
      "[88 79 72 75 93 68 46 97 62 97 93 66 51 58 68 61 72 83 46 76]\n",
      "(20,)\n",
      "[88 79 72 75 93 68 46 97 62 97 93 66 51 58 68 61 72 83 46 76]\n",
      "As: 4\n",
      "Bs: 2\n",
      "Cs: 5\n",
      "Fs: 4\n"
     ]
    }
   ],
   "source": [
    "# HW2\n",
    "# Due: 10/22/2020 (Thursday) 12:00PM\n",
    "# Email to: jzhang@eastwest.edu\n",
    "\n",
    "\n",
    "# Problem 1:\n",
    "\n",
    "# A list numbers of rang 0 to 100 to represent 20 student final scores\n",
    "# 1) Use numpy to show the average score, highest score and lowest score\n",
    "# 2) Use numpy's boolean index to count how many A (100 - 90), B(89-80), C(79-70), D(69-60), F(<60)\n",
    "#   (Hint: Bs = data[(data>=80) & (data <90) ])\n",
    "\n",
    "\n",
    "import numpy as np\n",
    "\n",
    "# 20 students final scores\n",
    "#data = np.random.randn(100)  \n",
    "\n",
    "data = np.random.randint(0, 100, 20)  # start, end, number\n",
    "\n",
    "scores = [88 ,79, 72, 75, 93, 68, 46, 97, 62, 97, 93, 66, 51, 58,  68 ,  61, \n",
    "        72 , 83, 46 ,76]\n",
    "\n",
    "data = np.array(scores)\n",
    "print (data)\n",
    "print(data.shape)\n",
    "As = data[data>=90]\n",
    "Bs = data[(data>=80) & (data<=90)]\n",
    "Cs = data[(data>=70) & (data<=80)]\n",
    "Ds = data[(data>=60) & (data<=70)]\n",
    "Fs = data[(data< 60)]\n",
    "print(data)\n",
    "print( 'As:' ,len(As))\n",
    "print( 'Bs:' ,len(Bs))\n",
    "print( 'Cs:' ,len(Cs))\n",
    "print( 'Fs:' ,len(Fs))\n",
    "\n"
   ]
  },
  {
   "cell_type": "code",
   "execution_count": 2,
   "metadata": {},
   "outputs": [
    {
     "name": "stdout",
     "output_type": "stream",
     "text": [
      "[100. 100. 100. 100. 100. 100.]\n",
      "(5, 6)\n",
      "# Method 1\n"
     ]
    },
    {
     "ename": "NameError",
     "evalue": "name 'final_score' is not defined",
     "output_type": "error",
     "traceback": [
      "\u001b[1;31m---------------------------------------------------------------------------\u001b[0m",
      "\u001b[1;31mNameError\u001b[0m                                 Traceback (most recent call last)",
      "\u001b[1;32m<ipython-input-2-6fa43380e22d>\u001b[0m in \u001b[0;36m<module>\u001b[1;34m\u001b[0m\n\u001b[0;32m     25\u001b[0m \u001b[0mprint\u001b[0m\u001b[1;33m(\u001b[0m\u001b[1;34m\"# Method 1\"\u001b[0m\u001b[1;33m)\u001b[0m\u001b[1;33m\u001b[0m\u001b[1;33m\u001b[0m\u001b[0m\n\u001b[0;32m     26\u001b[0m \u001b[1;32mfor\u001b[0m \u001b[0mi\u001b[0m \u001b[1;32min\u001b[0m \u001b[0mrange\u001b[0m\u001b[1;33m(\u001b[0m\u001b[0mnum_student\u001b[0m\u001b[1;33m)\u001b[0m\u001b[1;33m:\u001b[0m\u001b[1;33m\u001b[0m\u001b[1;33m\u001b[0m\u001b[0m\n\u001b[1;32m---> 27\u001b[1;33m     \u001b[0mfinal_score\u001b[0m\u001b[1;33m[\u001b[0m\u001b[0mi\u001b[0m\u001b[1;33m]\u001b[0m \u001b[1;33m=\u001b[0m \u001b[0mnp\u001b[0m\u001b[1;33m.\u001b[0m\u001b[0msum\u001b[0m\u001b[1;33m(\u001b[0m\u001b[0mscores\u001b[0m\u001b[1;33m[\u001b[0m\u001b[0mi\u001b[0m\u001b[1;33m]\u001b[0m\u001b[1;33m*\u001b[0m\u001b[0mWEIGHTS\u001b[0m\u001b[1;33m)\u001b[0m\u001b[1;33m\u001b[0m\u001b[1;33m\u001b[0m\u001b[0m\n\u001b[0m\u001b[0;32m     28\u001b[0m     \u001b[0mprint\u001b[0m\u001b[1;33m(\u001b[0m\u001b[0mfinal_scores\u001b[0m\u001b[1;33m)\u001b[0m\u001b[1;33m\u001b[0m\u001b[1;33m\u001b[0m\u001b[0m\n\u001b[0;32m     29\u001b[0m \u001b[1;33m\u001b[0m\u001b[0m\n",
      "\u001b[1;31mNameError\u001b[0m: name 'final_score' is not defined"
     ]
    }
   ],
   "source": [
    "\n",
    "# Problem 2:\n",
    "# Six homework scores from five student , show the each student total scores by the weights and their grades\n",
    "\n",
    "WEIGHTS = np.array( [0.1, 0.1,0.1,0.2, 0.2, 0.3 ])\n",
    "\n",
    "# test perfect score\n",
    "full_score = np.ones(6)*100\n",
    "#full_score = 100\n",
    "print(full_score)\n",
    "\n",
    "\n",
    "#student homework\n",
    "# Read six homework, from 5 studennts\n",
    "scores = np.array([[58, 96, 65, 78.5, 76, 89],\n",
    "                 [58, 96, 65, 78.5, 76, 79],\n",
    "                 [58, 86, 95, 72.5, 86, 61],\n",
    "                 [68, 56, 45, 67.5, 96, 82],\n",
    "                 [68, 96, 65, 78.5, 56, 49]] )\n",
    "\n",
    "print(scores.shape)\n",
    "\n",
    "num_student = len(scores)\n",
    "final_scores = np.zeros(len(scores))\n",
    "\n",
    "print(\"# Method 1\") \n",
    "for i in range(num_student):\n",
    "    final_score[i] = np.sum(scores[i]*WEIGHTS)\n",
    "    print(final_scores)\n",
    "\n",
    "print(\"# Method 2\") \n",
    "final_scores = (scores*WEIGHTS)\n",
    "print(final_scores)\n",
    "\n",
    "#scores for each student\n",
    "scores =final_scores.sum(axis = 1)\n",
    "print(scores)\n",
    "\n",
    "# Average scores\n",
    "\n",
    "scores = final_scores.mean(axis =0)\n",
    "print(scores)\n",
    "\n"
   ]
  },
  {
   "cell_type": "code",
   "execution_count": null,
   "metadata": {
    "scrolled": true
   },
   "outputs": [],
   "source": [
    "# Problem 3 (Option)\n",
    "\n",
    "\n",
    "# Generate 30 students final scores\n",
    "# Use bar chart to present the distribution of grades ( See example Chapter 7, use plt.bar )\n",
    "\n",
    "\n",
    "import numpy as np\n",
    "data = np.random.randint(0, 100, 30)  # start, end, number\n",
    "\n",
    "data = np.array(data)\n",
    "\n",
    "labels = ['A', 'B','C','D','F']\n",
    "count_grade = np.zeros(5)\n",
    "count_grade = count_grade.astype(np.int32)\n"
   ]
  },
  {
   "cell_type": "code",
   "execution_count": null,
   "metadata": {},
   "outputs": [],
   "source": [
    "# page 392\n",
    "import matplotlib.pyplot as plt\n",
    "\n",
    "def drawBar(count, labels):\n",
    "    left_edges = [0, 10, 20, 30, 40 ]\n",
    "    \n",
    "    # Create a list\n",
    "    bar_width = 5\n",
    "    \n",
    "    plt.bar(left_edges , count, bar_width, color='Green' )   # 'Red'\n",
    "    \n",
    "    plt.xticks([5, 15, 25, 35, 45],labels)\n",
    "    plt.xlabel('Grade')\n",
    "    plt.title('Student Final Grade')\n",
    "    \n",
    "    plt.show()\n",
    "\n",
    "drawBar(count_grade, labels)"
   ]
  },
  {
   "cell_type": "code",
   "execution_count": null,
   "metadata": {},
   "outputs": [],
   "source": [
    "# Generate 100 interger\n",
    "# Use bar chart to present the distribution of from 0-9, 10-19, 20-29, ...,90-99\n",
    "\n",
    "import numpy as np\n",
    "data = np.random.randint(1, 101, 50)  # start, end, number\n",
    "print (data)\n",
    "data = np.array(data)\n",
    "\n",
    "labels=['-']*10\n",
    "print(labels)\n",
    "\n",
    "for i in range(10):\n",
    "    labels[i] = str(i*10) + 's'\n",
    "print(labels)\n",
    "\n",
    "count= np.zeros(10)\n",
    "print (count)\n",
    "\n",
    "# from A to D grade\n",
    "catoff = 10\n",
    "for i in range(10):\n",
    "    condition = (data>= i*10) & ( data < cutoff *(i+1)) \n",
    "    count[i]= len(data[condition])\n",
    " \n",
    "\n",
    "# \n",
    "print (count)\n",
    "\n"
   ]
  },
  {
   "cell_type": "code",
   "execution_count": null,
   "metadata": {},
   "outputs": [],
   "source": [
    "import matplotlib.pyplot as plt\n",
    "\n",
    "# Create a list\n",
    "\n",
    "left_edges = range(0,100,10)\n",
    "xMarks=range(0,110,10)\n",
    "print(left_edges)\n",
    "print(xMarks)\n",
    "left_edges\n",
    "bar_width = 5\n",
    "    \n",
    "plt.bar(left_edges , count, bar_width, color='Green' )   # 'Red'\n",
    "    \n",
    "plt.xticks(xMarks,labels)\n",
    "plt.xlabel('Data Distribution')\n",
    "plt.title('Data Distribution')\n",
    "    \n",
    "plt.show()"
   ]
  },
  {
   "cell_type": "code",
   "execution_count": null,
   "metadata": {},
   "outputs": [],
   "source": [
    "# page 392\n",
    "import matplotlib.pyplot as plt\n",
    "\n",
    "def main():\n",
    "    left_edges = [0, 10, 20, 30, 40 ]\n",
    "    \n",
    "    # Create a list\n",
    "    heights = [100, 200, 300, 400, 500]\n",
    "    bar_width = 5\n",
    "    \n",
    "    plt.bar(left_edges , heights, bar_width, color='Green' )   # 'Red'\n",
    "    \n",
    "    plt.xticks([5, 15, 25, 35, 45], ['2016', '2017','2018','2019','2020'])\n",
    "    plt.yticks([100, 200, 300, 400, 500], ['$0m', '$1m','$2m','$3m','$4m','$5m'])\n",
    "    \n",
    "    plt.show()\n",
    "\n",
    "main()"
   ]
  },
  {
   "cell_type": "code",
   "execution_count": null,
   "metadata": {},
   "outputs": [],
   "source": [
    "#help(np.random.randn)\n",
    "#numpy.random.random(size=None) , Return random floats in the half-open interval [0.0, 1.0).\n",
    "# https://docs.scipy.org/doc/numpy/reference/generated/numpy.random.random.html"
   ]
  }
 ],
 "metadata": {
  "kernelspec": {
   "display_name": "Python 3",
   "language": "python",
   "name": "python3"
  },
  "language_info": {
   "codemirror_mode": {
    "name": "ipython",
    "version": 3
   },
   "file_extension": ".py",
   "mimetype": "text/x-python",
   "name": "python",
   "nbconvert_exporter": "python",
   "pygments_lexer": "ipython3",
   "version": "3.8.3"
  }
 },
 "nbformat": 4,
 "nbformat_minor": 2
}
